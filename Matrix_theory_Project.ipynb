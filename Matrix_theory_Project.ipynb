{
  "nbformat": 4,
  "nbformat_minor": 0,
  "metadata": {
    "colab": {
      "name": "Matrix theory Project",
      "provenance": [],
      "collapsed_sections": [],
      "toc_visible": true
    },
    "kernelspec": {
      "name": "python3",
      "display_name": "Python 3"
    },
    "language_info": {
      "name": "python"
    }
  },
  "cells": [
    {
      "cell_type": "code",
      "metadata": {
        "id": "etmIH4pC6RQz"
      },
      "source": [
        "import numpy as np\n",
        "from sklearn.preprocessing import normalize\n",
        "import pandas as pd\n",
        "import matplotlib.pyplot as plt\n",
        "import matplotlib\n",
        "import seaborn as sns\n",
        "from numpy.polynomial.polynomial import polyval\n",
        "import scipy"
      ],
      "execution_count": null,
      "outputs": []
    },
    {
      "cell_type": "markdown",
      "metadata": {
        "id": "2Z3tQph16Tnz"
      },
      "source": [
        "# **Q1**.\n",
        "Write a computer program which computes the Jordan canonical form for an arbitrary n × n matrix with n ≤ 4."
      ]
    },
    {
      "cell_type": "code",
      "metadata": {
        "id": "UhuLmF1B9lgo"
      },
      "source": [
        ""
      ],
      "execution_count": null,
      "outputs": []
    },
    {
      "cell_type": "markdown",
      "metadata": {
        "id": "itGBarkg6YPN"
      },
      "source": [
        "# **Q2**. \n",
        "Write a computer program which computes the orthogonal diagonalization for an arbitrary $n × n$ symmetric matrix with $n ≤ 4$, i.e., given the input of a symmetric matrix S, the computer outputs an orthogonal matrix A and a diagonal matrix D such that $S = ADA^t .$\n",
        "\n"
      ]
    },
    {
      "cell_type": "code",
      "metadata": {
        "id": "DudTsTrh6bbd",
        "colab": {
          "base_uri": "https://localhost:8080/"
        },
        "outputId": "2058ed1d-9965-41ba-942d-c12179eed478"
      },
      "source": [
        "\n",
        "def check_symmetric(a, rtol=1e-05, atol=1e-08):\n",
        "    return np.allclose(a, a.T, rtol=rtol, atol=atol)\n",
        "# Test Data\n",
        "one = np.array([[2,0,1], [0,1,0], [1,0,2]])\n",
        "two = np.array([[3 ,-6, 0,3], [-6,0,6,3], [0,6,-3,-3],[3,3,-3,1]])\n",
        "three = np.array([[2,-1,0], [-1,2,0], [0,0,3]])\n",
        "four = np.array([[5 ,-1, -1,-1], [-1,5,-1,-1], [-1,-1,5,-1],[-1,-1,-1,5]])\n",
        "# print(three)\n",
        "six = np.ones((6,6))\n",
        "np.fill_diagonal(six,3)\n",
        "\n",
        "def diag(symmetric):\n",
        "    assert check_symmetric(symmetric),\"not symmetric\"\n",
        "    print(symmetric)\n",
        "    print(\"\\n\")\n",
        "    eig_val, eig_vec = np.linalg.eigh(symmetric)\n",
        "    # print(f'eig_vec\\n{eig_vec}')\n",
        "    A = normalize(eig_vec) \n",
        "    \n",
        "    # diagonal = np.expand_dims(eig_val,axis=1)\n",
        "    D = np.zeros_like(A) #create zeros matrix to insert diagonal\n",
        "    np.fill_diagonal(D, eig_val)\n",
        "\n",
        "    return A,D\n",
        "\n",
        "def check_ans(symmetric):\n",
        "    ori = symmetric\n",
        "    A,D = diag(symmetric)\n",
        "    ans = A @ D @ A.T \n",
        "    print(f'A:\\n{A}')\n",
        "    print(f'D:\\n{D}')\n",
        "    print(\"\\n\")\n",
        "    print(ans)\n",
        "    assert np.allclose(ori,ans), \"two matrix are not similar\"\n",
        "    print(\"Seems correct\")\n",
        "\n",
        "check_ans(two)"
      ],
      "execution_count": null,
      "outputs": [
        {
          "output_type": "stream",
          "text": [
            "[[ 3 -6  0  3]\n",
            " [-6  0  6  3]\n",
            " [ 0  6 -3 -3]\n",
            " [ 3  3 -3  1]]\n",
            "\n",
            "\n",
            "A:\n",
            "[[-0.34323995  0.61196932  0.20273745  0.68306472]\n",
            " [-0.6133254   0.2113852   0.43272731 -0.62601544]\n",
            " [ 0.59775148  0.72326351 -0.00627742 -0.34575086]\n",
            " [ 0.38563124 -0.24020773  0.87841061  0.14826865]]\n",
            "D:\n",
            "[[-11.09173421   0.           0.           0.        ]\n",
            " [  0.          -0.25005568   0.           0.        ]\n",
            " [  0.           0.           3.19171592   0.        ]\n",
            " [  0.           0.           0.           9.15007398]]\n",
            "\n",
            "\n",
            "[[ 3.00000000e+00 -6.00000000e+00 -6.27492152e-16  3.00000000e+00]\n",
            " [-6.00000000e+00  2.99191147e-15  6.00000000e+00  3.00000000e+00]\n",
            " [-5.58965597e-16  6.00000000e+00 -3.00000000e+00 -3.00000000e+00]\n",
            " [ 3.00000000e+00  3.00000000e+00 -3.00000000e+00  1.00000000e+00]]\n",
            "Seems correct\n"
          ],
          "name": "stdout"
        }
      ]
    },
    {
      "cell_type": "markdown",
      "metadata": {
        "id": "zFSFulYG6o6m"
      },
      "source": [
        "# **Q3**. \n",
        "Consider 5 different data plots each consisting of at least 50 data points which lie in\n",
        "the xy-plane. You can randomly generate your own data or use pre-existing data. A data repository can be found here: https://archive.ics.uci.edu/ml/index.php\n",
        "\n"
      ]
    },
    {
      "cell_type": "code",
      "metadata": {
        "id": "l-O_iIoeOsKT",
        "colab": {
          "base_uri": "https://localhost:8080/"
        },
        "outputId": "ff9144ef-5be3-42c4-e4ae-2f2afd630051"
      },
      "source": [
        "# # Dataset 1\n",
        "!wget https://archive.ics.uci.edu/ml/machine-learning-databases/00320/student.zip >> /dev/null\n",
        "!unzip -n student.zip >/dev/null"
      ],
      "execution_count": null,
      "outputs": [
        {
          "output_type": "stream",
          "text": [
            "--2021-06-06 12:53:18--  https://archive.ics.uci.edu/ml/machine-learning-databases/00320/student.zip\n",
            "Resolving archive.ics.uci.edu (archive.ics.uci.edu)... 128.195.10.252\n",
            "Connecting to archive.ics.uci.edu (archive.ics.uci.edu)|128.195.10.252|:443... connected.\n",
            "HTTP request sent, awaiting response... 200 OK\n",
            "Length: 20478 (20K) [application/x-httpd-php]\n",
            "Saving to: ‘student.zip’\n",
            "\n",
            "student.zip         100%[===================>]  20.00K  --.-KB/s    in 0.1s    \n",
            "\n",
            "2021-06-06 12:53:19 (134 KB/s) - ‘student.zip’ saved [20478/20478]\n",
            "\n"
          ],
          "name": "stdout"
        }
      ]
    },
    {
      "cell_type": "markdown",
      "metadata": {
        "id": "UH26wfYfMw2m"
      },
      "source": [
        "(a) For each data set, use a computer to solve the corresponding matrix equation $A^† Ax = A^† b$ for modeling the data with the best fit line of the form $y = a_1 x + a_0$ , and in each case, compute $d(b, C(A))$."
      ]
    },
    {
      "cell_type": "markdown",
      "metadata": {
        "id": "Aqr47VCG6r32"
      },
      "source": [
        "(b) For each data set, use a computer to solve the corresponding matrix equation $A^† Ax = A^† b$ for modeling the data with the best fit parabola of the form $y = a_2 x^2 + a_1^x + a_0$ , and in\n",
        "each case, compute $d(b, C(A))$."
      ]
    },
    {
      "cell_type": "markdown",
      "metadata": {
        "id": "zOG7xmaFhWZY"
      },
      "source": [
        "## Dataset 1"
      ]
    },
    {
      "cell_type": "code",
      "metadata": {
        "id": "He-ajnvl7T7M",
        "colab": {
          "base_uri": "https://localhost:8080/",
          "height": 204
        },
        "outputId": "5afa5948-d75e-4ce1-c19a-88fb6a55cf3b"
      },
      "source": [
        "tips = sns.load_dataset(\"tips\")\n",
        "tips.head()\n",
        "# sns.scatterplot(data=tips, x=\"total_bill\", y=\"tip\")"
      ],
      "execution_count": null,
      "outputs": [
        {
          "output_type": "execute_result",
          "data": {
            "text/html": [
              "<div>\n",
              "<style scoped>\n",
              "    .dataframe tbody tr th:only-of-type {\n",
              "        vertical-align: middle;\n",
              "    }\n",
              "\n",
              "    .dataframe tbody tr th {\n",
              "        vertical-align: top;\n",
              "    }\n",
              "\n",
              "    .dataframe thead th {\n",
              "        text-align: right;\n",
              "    }\n",
              "</style>\n",
              "<table border=\"1\" class=\"dataframe\">\n",
              "  <thead>\n",
              "    <tr style=\"text-align: right;\">\n",
              "      <th></th>\n",
              "      <th>total_bill</th>\n",
              "      <th>tip</th>\n",
              "      <th>sex</th>\n",
              "      <th>smoker</th>\n",
              "      <th>day</th>\n",
              "      <th>time</th>\n",
              "      <th>size</th>\n",
              "    </tr>\n",
              "  </thead>\n",
              "  <tbody>\n",
              "    <tr>\n",
              "      <th>0</th>\n",
              "      <td>16.99</td>\n",
              "      <td>1.01</td>\n",
              "      <td>Female</td>\n",
              "      <td>No</td>\n",
              "      <td>Sun</td>\n",
              "      <td>Dinner</td>\n",
              "      <td>2</td>\n",
              "    </tr>\n",
              "    <tr>\n",
              "      <th>1</th>\n",
              "      <td>10.34</td>\n",
              "      <td>1.66</td>\n",
              "      <td>Male</td>\n",
              "      <td>No</td>\n",
              "      <td>Sun</td>\n",
              "      <td>Dinner</td>\n",
              "      <td>3</td>\n",
              "    </tr>\n",
              "    <tr>\n",
              "      <th>2</th>\n",
              "      <td>21.01</td>\n",
              "      <td>3.50</td>\n",
              "      <td>Male</td>\n",
              "      <td>No</td>\n",
              "      <td>Sun</td>\n",
              "      <td>Dinner</td>\n",
              "      <td>3</td>\n",
              "    </tr>\n",
              "    <tr>\n",
              "      <th>3</th>\n",
              "      <td>23.68</td>\n",
              "      <td>3.31</td>\n",
              "      <td>Male</td>\n",
              "      <td>No</td>\n",
              "      <td>Sun</td>\n",
              "      <td>Dinner</td>\n",
              "      <td>2</td>\n",
              "    </tr>\n",
              "    <tr>\n",
              "      <th>4</th>\n",
              "      <td>24.59</td>\n",
              "      <td>3.61</td>\n",
              "      <td>Female</td>\n",
              "      <td>No</td>\n",
              "      <td>Sun</td>\n",
              "      <td>Dinner</td>\n",
              "      <td>4</td>\n",
              "    </tr>\n",
              "  </tbody>\n",
              "</table>\n",
              "</div>"
            ],
            "text/plain": [
              "   total_bill   tip     sex smoker  day    time  size\n",
              "0       16.99  1.01  Female     No  Sun  Dinner     2\n",
              "1       10.34  1.66    Male     No  Sun  Dinner     3\n",
              "2       21.01  3.50    Male     No  Sun  Dinner     3\n",
              "3       23.68  3.31    Male     No  Sun  Dinner     2\n",
              "4       24.59  3.61  Female     No  Sun  Dinner     4"
            ]
          },
          "metadata": {
            "tags": []
          },
          "execution_count": 5
        }
      ]
    },
    {
      "cell_type": "code",
      "metadata": {
        "id": "jdxyAIpKzW6I"
      },
      "source": [
        "def custom_lstsq(A,b):\n",
        "    part1 = np.linalg.inv(np.matrix(A).getH() @ A) # \n",
        "    part2 =  A.T @ b\n",
        "    sol = np.squeeze(np.array(part1@part2),0)\n",
        "    true_label =np.linalg.lstsq(A,b,rcond=None)[0]\n",
        "    assert np.allclose(sol,true_label),\"wrong custom solution\"\n",
        "    return sol\n",
        "\n",
        "def best_fit(x,y, second_order = False):\n",
        "    if(second_order):\n",
        "        x2 = np.array(x**2)\n",
        "        A = np.vstack([x2 ,x,np.ones(len(x))]).T\n",
        "    else:\n",
        "        A = np.vstack([x, np.ones(len(x))]).T\n",
        "    # print(x1.shape)\n",
        "    \n",
        "    sol = custom_lstsq(A,y)\n",
        "    print(f'sol: {sol}')\n",
        "    y1 =polyval(x,sol[::-1])# m*x1 + c\n",
        "    sns.lineplot(x=x,y=y1,color=\"red\")\n",
        "    plt.ylabel('y')\n",
        "    sns.scatterplot(data=tips, x=x, y=y)\n",
        "    return y1\n",
        "\n",
        "# d(b, C(A))\n",
        "def proj(v,W): #proj_w(v)\n",
        "    assert v.shape[0]==W.shape[0], f\"w should be {v.shape[0]}\"\n",
        "    num = (np.inner(W,v) * W)\n",
        "    den =  np.inner(W,W)\n",
        "    return np.divide(num,den)\n",
        "\n",
        "def distance(v,W):\n",
        "    proj_b_ca = b1 - Ax\n",
        "    return np.linalg.norm(proj_b_ca)\n",
        "\n",
        "def column_space(A):\n",
        "    A = np.conj(A).T\n",
        "    # print(A)\n",
        "    c_space = scipy.linalg.null_space(A).T\n",
        "    print(f\"column space: {c_space.shape}\")\n",
        "    return c_space\n"
      ],
      "execution_count": null,
      "outputs": []
    },
    {
      "cell_type": "code",
      "metadata": {
        "colab": {
          "base_uri": "https://localhost:8080/",
          "height": 316
        },
        "id": "XFkwolc7QhzH",
        "outputId": "12c1a3d0-51bb-4913-e5b9-cea1d5510910"
      },
      "source": [
        "x1 = tips[\"total_bill\"]\n",
        "b1 = tips[\"tip\"]\n",
        "Ax = best_fit(x1,b1)\n",
        "\n",
        "print(f'd(b,C(A)) = {distance(b1,Ax)}')\n"
      ],
      "execution_count": null,
      "outputs": [
        {
          "output_type": "stream",
          "text": [
            "sol: [0.10502452 0.92026961]\n",
            "d(b,C(A)) = 15.899331553583503\n"
          ],
          "name": "stdout"
        },
        {
          "output_type": "display_data",
          "data": {
            "image/png": "[encoded data removed]",
            "text/plain": [
              "<Figure size 432x288 with 1 Axes>"
            ]
          },
          "metadata": {
            "tags": [],
            "needs_background": "light"
          }
        }
      ]
    },
    {
      "cell_type": "code",
      "metadata": {
        "id": "4c0NWUSYY5g3"
      },
      "source": [
        "# sns.regplot(x1,b1,fit_reg=True)"
      ],
      "execution_count": null,
      "outputs": []
    },
    {
      "cell_type": "code",
      "metadata": {
        "id": "mgL3h-spZDn1"
      },
      "source": [
        "# sns.regplot(x1,b1,fit_reg=True,order=3)"
      ],
      "execution_count": null,
      "outputs": []
    },
    {
      "cell_type": "code",
      "metadata": {
        "colab": {
          "base_uri": "https://localhost:8080/",
          "height": 316
        },
        "id": "SLWhwJLR5o_V",
        "outputId": "bed1ca68-4752-4474-f269-05de68b37874"
      },
      "source": [
        "Ax = best_fit(x1,b1,second_order=True)\n",
        "print(f'd(b,C(A)) ={distance(b1,Ax)}')"
      ],
      "execution_count": null,
      "outputs": [
        {
          "output_type": "stream",
          "text": [
            "sol: [-5.71031271e-05  1.07855549e-01  8.91116961e-01]\n",
            "d(b,C(A)) =15.899035277521403\n"
          ],
          "name": "stdout"
        },
        {
          "output_type": "display_data",
          "data": {
            "image/png": "[encoded data removed]",
            "text/plain": [
              "<Figure size 432x288 with 1 Axes>"
            ]
          },
          "metadata": {
            "tags": [],
            "needs_background": "light"
          }
        }
      ]
    },
    {
      "cell_type": "markdown",
      "metadata": {
        "id": "_0NiVkAKtKjn"
      },
      "source": [
        "## Dataset 2"
      ]
    },
    {
      "cell_type": "code",
      "metadata": {
        "colab": {
          "base_uri": "https://localhost:8080/",
          "height": 402
        },
        "id": "vlUhHVzMHrEy",
        "outputId": "825e52af-c53f-46ec-acdf-aedfa78c2e6f"
      },
      "source": [
        "!wget https://raw.githubusercontent.com/datasets/covid-19/main/data/time-series-19-covid-combined.csv\n",
        "covid=pd.read_csv(\"time-series-19-covid-combined.csv\")\n",
        "malaysia=covid.loc[covid['Country/Region'] == \"Malaysia\"]\n",
        "malaysia.head()"
      ],
      "execution_count": null,
      "outputs": [
        {
          "output_type": "stream",
          "text": [
            "--2021-06-06 12:54:57--  https://raw.githubusercontent.com/datasets/covid-19/main/data/time-series-19-covid-combined.csv\n",
            "Resolving raw.githubusercontent.com (raw.githubusercontent.com)... 185.199.110.133, 185.199.111.133, 185.199.108.133, ...\n",
            "Connecting to raw.githubusercontent.com (raw.githubusercontent.com)|185.199.110.133|:443... connected.\n",
            "HTTP request sent, awaiting response... 200 OK\n",
            "Length: 5091228 (4.9M) [text/plain]\n",
            "Saving to: ‘time-series-19-covid-combined.csv’\n",
            "\n",
            "time-series-19-covi 100%[===================>]   4.85M  --.-KB/s    in 0.1s    \n",
            "\n",
            "2021-06-06 12:54:58 (38.0 MB/s) - ‘time-series-19-covid-combined.csv’ saved [5091228/5091228]\n",
            "\n"
          ],
          "name": "stdout"
        },
        {
          "output_type": "execute_result",
          "data": {
            "text/html": [
              "<div>\n",
              "<style scoped>\n",
              "    .dataframe tbody tr th:only-of-type {\n",
              "        vertical-align: middle;\n",
              "    }\n",
              "\n",
              "    .dataframe tbody tr th {\n",
              "        vertical-align: top;\n",
              "    }\n",
              "\n",
              "    .dataframe thead th {\n",
              "        text-align: right;\n",
              "    }\n",
              "</style>\n",
              "<table border=\"1\" class=\"dataframe\">\n",
              "  <thead>\n",
              "    <tr style=\"text-align: right;\">\n",
              "      <th></th>\n",
              "      <th>Date</th>\n",
              "      <th>Country/Region</th>\n",
              "      <th>Province/State</th>\n",
              "      <th>Confirmed</th>\n",
              "      <th>Recovered</th>\n",
              "      <th>Deaths</th>\n",
              "    </tr>\n",
              "  </thead>\n",
              "  <tbody>\n",
              "    <tr>\n",
              "      <th>88176</th>\n",
              "      <td>2020-01-22</td>\n",
              "      <td>Malaysia</td>\n",
              "      <td>NaN</td>\n",
              "      <td>0</td>\n",
              "      <td>0.0</td>\n",
              "      <td>0</td>\n",
              "    </tr>\n",
              "    <tr>\n",
              "      <th>88177</th>\n",
              "      <td>2020-01-23</td>\n",
              "      <td>Malaysia</td>\n",
              "      <td>NaN</td>\n",
              "      <td>0</td>\n",
              "      <td>0.0</td>\n",
              "      <td>0</td>\n",
              "    </tr>\n",
              "    <tr>\n",
              "      <th>88178</th>\n",
              "      <td>2020-01-24</td>\n",
              "      <td>Malaysia</td>\n",
              "      <td>NaN</td>\n",
              "      <td>0</td>\n",
              "      <td>0.0</td>\n",
              "      <td>0</td>\n",
              "    </tr>\n",
              "    <tr>\n",
              "      <th>88179</th>\n",
              "      <td>2020-01-25</td>\n",
              "      <td>Malaysia</td>\n",
              "      <td>NaN</td>\n",
              "      <td>3</td>\n",
              "      <td>0.0</td>\n",
              "      <td>0</td>\n",
              "    </tr>\n",
              "    <tr>\n",
              "      <th>88180</th>\n",
              "      <td>2020-01-26</td>\n",
              "      <td>Malaysia</td>\n",
              "      <td>NaN</td>\n",
              "      <td>4</td>\n",
              "      <td>0.0</td>\n",
              "      <td>0</td>\n",
              "    </tr>\n",
              "  </tbody>\n",
              "</table>\n",
              "</div>"
            ],
            "text/plain": [
              "             Date Country/Region Province/State  Confirmed  Recovered  Deaths\n",
              "88176  2020-01-22       Malaysia            NaN          0        0.0       0\n",
              "88177  2020-01-23       Malaysia            NaN          0        0.0       0\n",
              "88178  2020-01-24       Malaysia            NaN          0        0.0       0\n",
              "88179  2020-01-25       Malaysia            NaN          3        0.0       0\n",
              "88180  2020-01-26       Malaysia            NaN          4        0.0       0"
            ]
          },
          "metadata": {
            "tags": []
          },
          "execution_count": 13
        }
      ]
    },
    {
      "cell_type": "code",
      "metadata": {
        "colab": {
          "base_uri": "https://localhost:8080/",
          "height": 315
        },
        "id": "qGEfXdTeIv6E",
        "outputId": "eb7521d9-0402-48ae-c7aa-c66db9421bcf"
      },
      "source": [
        "\n",
        "# matplotlib.dates.date2num(malaysia[\"month\"])\n",
        "# pd.plotting.register_matplotlib_converters()\n",
        "sns.scatterplot(data=malaysia, y=\"Deaths\", x=\"Confirmed\")\n",
        "x1 = malaysia[\"Confirmed\"]\n",
        "b1 = malaysia[\"Deaths\"]\n",
        "Ax = best_fit(x1,b1,second_order=False)\n",
        "\n",
        "print(f'd(b,C(A)) ={distance(b1,Ax)}')"
      ],
      "execution_count": null,
      "outputs": [
        {
          "output_type": "stream",
          "text": [
            "sol: [3.90027938e-03 5.22434032e+01]\n",
            "d(b,C(A)) =2466.3219940208583\n"
          ],
          "name": "stdout"
        },
        {
          "output_type": "display_data",
          "data": {
            "image/png": "[encoded data removed]",
            "text/plain": [
              "<Figure size 432x288 with 1 Axes>"
            ]
          },
          "metadata": {
            "tags": [],
            "needs_background": "light"
          }
        }
      ]
    },
    {
      "cell_type": "code",
      "metadata": {
        "colab": {
          "base_uri": "https://localhost:8080/",
          "height": 353
        },
        "id": "qDRNXcNYZNUx",
        "outputId": "d5192166-b26b-4380-b32d-264f7dfcdc4b"
      },
      "source": [
        "# sns.regplot(x1,b1,fit_reg=True)"
      ],
      "execution_count": null,
      "outputs": [
        {
          "output_type": "stream",
          "text": [
            "/usr/local/lib/python3.7/dist-packages/seaborn/_decorators.py:43: FutureWarning: Pass the following variables as keyword args: x, y. From version 0.12, the only valid positional argument will be `data`, and passing other arguments without an explicit keyword will result in an error or misinterpretation.\n",
            "  FutureWarning\n"
          ],
          "name": "stderr"
        },
        {
          "output_type": "execute_result",
          "data": {
            "text/plain": [
              "<matplotlib.axes._subplots.AxesSubplot at 0x7f62f9551b50>"
            ]
          },
          "metadata": {
            "tags": []
          },
          "execution_count": 18
        },
        {
          "output_type": "display_data",
          "data": {
            "image/png": "[encoded data removed]",
            "text/plain": [
              "<Figure size 432x288 with 1 Axes>"
            ]
          },
          "metadata": {
            "tags": [],
            "needs_background": "light"
          }
        }
      ]
    },
    {
      "cell_type": "code",
      "metadata": {
        "colab": {
          "base_uri": "https://localhost:8080/",
          "height": 315
        },
        "id": "Wbx0hYS-JGDa",
        "outputId": "bc7065d0-2eb9-4748-b1b3-d7087e4915e9"
      },
      "source": [
        "Ax = best_fit(x1,b1,second_order=True)\n",
        "print(f'd(b,C(A)) ={distance(b1,Ax)}')"
      ],
      "execution_count": null,
      "outputs": [
        {
          "output_type": "stream",
          "text": [
            "sol: [3.85343957e-09 2.21383645e-03 9.62291932e+01]\n",
            "d(b,C(A)) =1608.7357583083876\n"
          ],
          "name": "stdout"
        },
        {
          "output_type": "display_data",
          "data": {
            "image/png": "[encoded data removed]",
            "text/plain": [
              "<Figure size 432x288 with 1 Axes>"
            ]
          },
          "metadata": {
            "tags": [],
            "needs_background": "light"
          }
        }
      ]
    },
    {
      "cell_type": "code",
      "metadata": {
        "colab": {
          "base_uri": "https://localhost:8080/",
          "height": 353
        },
        "id": "qFgGYbpXZSPQ",
        "outputId": "fcb2a25d-f2ec-4809-f55c-af0e55e473c9"
      },
      "source": [
        "# sns.regplot(x1,b1,fit_reg=True,order=2)"
      ],
      "execution_count": null,
      "outputs": [
        {
          "output_type": "stream",
          "text": [
            "/usr/local/lib/python3.7/dist-packages/seaborn/_decorators.py:43: FutureWarning: Pass the following variables as keyword args: x, y. From version 0.12, the only valid positional argument will be `data`, and passing other arguments without an explicit keyword will result in an error or misinterpretation.\n",
            "  FutureWarning\n"
          ],
          "name": "stderr"
        },
        {
          "output_type": "execute_result",
          "data": {
            "text/plain": [
              "<matplotlib.axes._subplots.AxesSubplot at 0x7f62f8ccb390>"
            ]
          },
          "metadata": {
            "tags": []
          },
          "execution_count": 19
        },
        {
          "output_type": "display_data",
          "data": {
            "image/png": "[encoded data removed]",
            "text/plain": [
              "<Figure size 432x288 with 1 Axes>"
            ]
          },
          "metadata": {
            "tags": [],
            "needs_background": "light"
          }
        }
      ]
    },
    {
      "cell_type": "markdown",
      "metadata": {
        "id": "wnTpbdpGUbgM"
      },
      "source": [
        "## Dateset 3"
      ]
    },
    {
      "cell_type": "code",
      "metadata": {
        "id": "5l_izCpVTLfO"
      },
      "source": [
        "china=covid.loc[covid['Country/Region'] == \"China\"]\n",
        "china = china.drop(columns=[\"Province/State\"])"
      ],
      "execution_count": null,
      "outputs": []
    },
    {
      "cell_type": "code",
      "metadata": {
        "colab": {
          "base_uri": "https://localhost:8080/",
          "height": 315
        },
        "id": "x6pNS7NxUhZk",
        "outputId": "4e138229-2767-49d0-b099-c66d245d0191"
      },
      "source": [
        "sns.scatterplot(data=china, y=\"Deaths\", x=\"Confirmed\")\n",
        "x1 = china[\"Confirmed\"]\n",
        "b1 = china[\"Deaths\"]\n",
        "Ax = best_fit(x1,b1,second_order=False)\n",
        "\n",
        "print(f'd(b,C(A)) ={distance(b1,Ax)}')"
      ],
      "execution_count": null,
      "outputs": [
        {
          "output_type": "stream",
          "text": [
            "sol: [  0.06322969 -36.80737044]\n",
            "d(b,C(A)) =14076.395632772967\n"
          ],
          "name": "stdout"
        },
        {
          "output_type": "display_data",
          "data": {
            "image/png": "[encoded data removed]",
            "text/plain": [
              "<Figure size 432x288 with 1 Axes>"
            ]
          },
          "metadata": {
            "tags": [],
            "needs_background": "light"
          }
        }
      ]
    },
    {
      "cell_type": "code",
      "metadata": {
        "colab": {
          "base_uri": "https://localhost:8080/",
          "height": 315
        },
        "id": "fXCQJ1_kVGHG",
        "outputId": "9b5eb1dd-7db6-4cbb-cc6d-3428c4e38c79"
      },
      "source": [
        "Ax = best_fit(x1,b1,second_order=True)\n",
        "\n",
        "print(f'd(b,C(A)) ={distance(b1,Ax)}')"
      ],
      "execution_count": null,
      "outputs": [
        {
          "output_type": "stream",
          "text": [
            "sol: [9.09025536e-07 1.61002503e-03 3.22427351e+00]\n",
            "d(b,C(A)) =10691.03748166029\n"
          ],
          "name": "stdout"
        },
        {
          "output_type": "display_data",
          "data": {
            "image/png": "[encoded data removed]",
            "text/plain": [
              "<Figure size 432x288 with 1 Axes>"
            ]
          },
          "metadata": {
            "tags": [],
            "needs_background": "light"
          }
        }
      ]
    },
    {
      "cell_type": "code",
      "metadata": {
        "id": "CNOh7z53VG63"
      },
      "source": [
        ""
      ],
      "execution_count": null,
      "outputs": []
    }
  ]
}